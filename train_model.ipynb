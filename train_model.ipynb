{
 "cells": [
  {
   "cell_type": "code",
   "execution_count": 1,
   "metadata": {},
   "outputs": [],
   "source": [
    "import os\n",
    "import librosa\n",
    "import numpy as np\n",
    "from sklearn.preprocessing import StandardScaler\n",
    "\n",
    "def extract_features(file_path):\n",
    "    y, sr = librosa.load(file_path, sr=None)\n",
    "    mfccs = librosa.feature.mfcc(y=y, sr=sr, n_mfcc=13)\n",
    "    scaler = StandardScaler()\n",
    "    mfccs = scaler.fit_transform(mfccs.T).T  # Normalisasi fitur\n",
    "    return mfccs\n"
   ]
  },
  {
   "cell_type": "code",
   "execution_count": 2,
   "metadata": {},
   "outputs": [],
   "source": [
    "import os\n",
    "import numpy as np\n",
    "import pickle\n",
    "\n",
    "def save_model(features, file_path):\n",
    "    with open(file_path, 'wb') as f:\n",
    "        pickle.dump(features, f)\n",
    "    print(f\"Model saved to {file_path}\")\n"
   ]
  },
  {
   "cell_type": "code",
   "execution_count": 3,
   "metadata": {},
   "outputs": [
    {
     "name": "stdout",
     "output_type": "stream",
     "text": [
      "Model saved to models\\idgham_bighunnah_model.pkl\n",
      "Model for idgham_bighunnah saved to models\\idgham_bighunnah_model.pkl\n",
      "Model saved to models\\idgham_bilaghunnah_model.pkl\n",
      "Model for idgham_bilaghunnah saved to models\\idgham_bilaghunnah_model.pkl\n",
      "Model saved to models\\idgham_mim_model.pkl\n",
      "Model for idgham_mim saved to models\\idgham_mim_model.pkl\n",
      "Model saved to models\\idgham_musyaddadah_model.pkl\n",
      "Model for idgham_musyaddadah saved to models\\idgham_musyaddadah_model.pkl\n",
      "Model saved to models\\ikhfa_model.pkl\n",
      "Model for ikhfa saved to models\\ikhfa_model.pkl\n",
      "Model saved to models\\ikhfa_syafawi_model.pkl\n",
      "Model for ikhfa_syafawi saved to models\\ikhfa_syafawi_model.pkl\n",
      "Model saved to models\\iqlab_model.pkl\n",
      "Model for iqlab saved to models\\iqlab_model.pkl\n",
      "Model saved to models\\izhar_model.pkl\n",
      "Model for izhar saved to models\\izhar_model.pkl\n",
      "Model saved to models\\izhar_syafawi_model.pkl\n",
      "Model for izhar_syafawi saved to models\\izhar_syafawi_model.pkl\n",
      "Model saved to models\\mad_asli_model.pkl\n",
      "Model for mad_asli saved to models\\mad_asli_model.pkl\n",
      "Model saved to models\\mad_jaiz_munfasil_model.pkl\n",
      "Model for mad_jaiz_munfasil saved to models\\mad_jaiz_munfasil_model.pkl\n",
      "Model saved to models\\mad_wajib_model.pkl\n",
      "Model for mad_wajib saved to models\\mad_wajib_model.pkl\n",
      "Model saved to models\\qalqalah_kubra_model.pkl\n",
      "Model for qalqalah_kubra saved to models\\qalqalah_kubra_model.pkl\n",
      "Model saved to models\\qalqalah_sughra_model.pkl\n",
      "Model for qalqalah_sughra saved to models\\qalqalah_sughra_model.pkl\n"
     ]
    }
   ],
   "source": [
    "import os\n",
    "import numpy as np\n",
    "\n",
    "def main():\n",
    "    data_latih_folder = 'data_latih/tajweed'\n",
    "    models_folder = 'models'\n",
    "    os.makedirs(models_folder, exist_ok=True)\n",
    "    \n",
    "    for tajweed_folder in os.listdir(data_latih_folder):\n",
    "        tajweed_path = os.path.join(data_latih_folder, tajweed_folder)\n",
    "        if not os.path.isdir(tajweed_path):\n",
    "            continue\n",
    "        \n",
    "        tajweed_features = []\n",
    "        for file_name in os.listdir(tajweed_path):\n",
    "            file_path = os.path.join(tajweed_path, file_name)\n",
    "            if file_path.endswith('.opus'):\n",
    "                features = extract_features(file_path)\n",
    "                tajweed_features.append(features)\n",
    "        \n",
    "        # Ensure all features have the same shape by padding or trimming\n",
    "        max_length = max(feature.shape[1] for feature in tajweed_features)\n",
    "        tajweed_features = [np.pad(feature, ((0, 0), (0, max_length - feature.shape[1])), 'constant') for feature in tajweed_features]\n",
    "        \n",
    "        model_path = os.path.join(models_folder, f'{tajweed_folder}_model.pkl')\n",
    "        save_model(tajweed_features, model_path)\n",
    "        print(f\"Model for {tajweed_folder} saved to {model_path}\")\n",
    "\n",
    "if __name__ == \"__main__\":\n",
    "    main()\n"
   ]
  }
 ],
 "metadata": {
  "kernelspec": {
   "display_name": "base",
   "language": "python",
   "name": "python3"
  },
  "language_info": {
   "codemirror_mode": {
    "name": "ipython",
    "version": 3
   },
   "file_extension": ".py",
   "mimetype": "text/x-python",
   "name": "python",
   "nbconvert_exporter": "python",
   "pygments_lexer": "ipython3",
   "version": "3.11.7"
  }
 },
 "nbformat": 4,
 "nbformat_minor": 2
}
