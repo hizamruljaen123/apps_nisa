{
 "cells": [
  {
   "cell_type": "code",
   "execution_count": null,
   "metadata": {},
   "outputs": [],
   "source": [
    "import os\n",
    "import librosa\n",
    "import numpy as np\n",
    "from sklearn.preprocessing import StandardScaler\n",
    "\n",
    "def extract_features(file_path):\n",
    "    if not os.path.exists(file_path):\n",
    "        print(f\"File {file_path} does not exist.\")\n",
    "        return None, None, None\n",
    "    try:\n",
    "        y, sr = librosa.load(file_path, sr=None)\n",
    "        mfccs = librosa.feature.mfcc(y=y, sr=sr, n_mfcc=13)\n",
    "        scaler = StandardScaler()\n",
    "        mfccs = scaler.fit_transform(mfccs.T).T  # Normalisasi fitur\n",
    "        return mfccs, y, sr\n",
    "    except Exception as e:\n",
    "        print(f\"Error loading {file_path}: {e}\")\n",
    "        return None, None, None\n",
    "\n",
    "# Path file audio uji\n",
    "test_audio_path = 'test.opus'\n",
    "\n",
    "# Ekstraksi fitur dari audio uji\n",
    "test_features, test_signal, sr = extract_features(test_audio_path)\n",
    "\n",
    "# Menyimpan fitur yang diekstraksi ke dalam file teks\n",
    "file_path = \"test_features.txt\"\n",
    "np.savetxt(file_path, test_features, delimiter=',')\n",
    "print(f\"Extracted features saved to {file_path}\")\n",
    "\n",
    "# Visualisasi sinyal audio uji\n",
    "import matplotlib.pyplot as plt\n",
    "\n",
    "plt.figure(figsize=(14, 7))\n",
    "plt.plot(test_signal, label='Audio Signal')\n",
    "plt.xlabel('Time (samples)')\n",
    "plt.ylabel('Amplitude')\n",
    "plt.title('Audio Signal')\n",
    "plt.legend(loc='upper right')\n",
    "plt.show()\n"
   ]
  }
 ],
 "metadata": {
  "language_info": {
   "name": "python"
  }
 },
 "nbformat": 4,
 "nbformat_minor": 2
}
